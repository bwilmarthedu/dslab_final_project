{
 "cells": [
  {
   "cell_type": "markdown",
   "metadata": {},
   "source": [
    "<h1>\n",
    "    <center>Dockless Vehicles Austin</center>\n",
    "</h1>\n",
    "<h2>\n",
    "    <center>Team: Data Vaders</center>\n",
    "    <h4>\n",
    "        <center>Zarif Choudhury</center>\n",
    "        <center>Vaidehi Durape</center>\n",
    "        <center>Aashima Garg</center>\n",
    "        <center>Aneesh Soni</center>\n",
    "        <center>Brian Wilmarth</center>\n",
    "    </h4>\n",
    "</h2>"
   ]
  },
  {
   "cell_type": "markdown",
   "metadata": {},
   "source": [
    "# Libraries Used"
   ]
  },
  {
   "cell_type": "code",
   "execution_count": 1,
   "metadata": {},
   "outputs": [
    {
     "data": {
      "text/html": [
       "        <script type=\"text/javascript\">\n",
       "        window.PlotlyConfig = {MathJaxConfig: 'local'};\n",
       "        if (window.MathJax) {MathJax.Hub.Config({SVG: {font: \"STIX-Web\"}});}\n",
       "        if (typeof require !== 'undefined') {\n",
       "        require.undef(\"plotly\");\n",
       "        requirejs.config({\n",
       "            paths: {\n",
       "                'plotly': ['https://cdn.plot.ly/plotly-latest.min']\n",
       "            }\n",
       "        });\n",
       "        require(['plotly'], function(Plotly) {\n",
       "            window._Plotly = Plotly;\n",
       "        });\n",
       "        }\n",
       "        </script>\n",
       "        "
      ]
     },
     "metadata": {},
     "output_type": "display_data"
    },
    {
     "data": {
      "text/html": [
       "        <script type=\"text/javascript\">\n",
       "        window.PlotlyConfig = {MathJaxConfig: 'local'};\n",
       "        if (window.MathJax) {MathJax.Hub.Config({SVG: {font: \"STIX-Web\"}});}\n",
       "        if (typeof require !== 'undefined') {\n",
       "        require.undef(\"plotly\");\n",
       "        requirejs.config({\n",
       "            paths: {\n",
       "                'plotly': ['https://cdn.plot.ly/plotly-latest.min']\n",
       "            }\n",
       "        });\n",
       "        require(['plotly'], function(Plotly) {\n",
       "            window._Plotly = Plotly;\n",
       "        });\n",
       "        }\n",
       "        </script>\n",
       "        "
      ]
     },
     "metadata": {},
     "output_type": "display_data"
    }
   ],
   "source": [
    "import pandas as pd\n",
    "import numpy as np\n",
    "import seaborn as sns\n",
    "import matplotlib\n",
    "import warnings\n",
    "import folium\n",
    "import cufflinks as cf\n",
    "cf.go_offline()\n",
    "import plotly\n",
    "import plotly.plotly as py\n",
    "import plotly.graph_objs as go\n",
    "plotly.tools.set_credentials_file(username='aneeshsoni', api_key='e9PuzLMTHBbA5eVvZVNr')\n",
    "warnings.filterwarnings('ignore')\n",
    "mapbox_access_token = 'pk.eyJ1IjoiYW5lZXNoc29uaSIsImEiOiJjanZyOW1kemQwZnhwM3lueHhiZDE4ZTcwIn0.iywNpoytj-XU17BF4Tp_Fw'\n",
    "\n",
    "import matplotlib.pyplot as plt\n",
    "from scipy.stats import skew\n",
    "from scipy.stats.stats import pearsonr\n",
    "from sklearn.linear_model import Ridge, RidgeCV, ElasticNet, LassoCV, LassoLarsCV\n",
    "from sklearn.model_selection import cross_val_score\n",
    "from sklearn.ensemble import (RandomForestClassifier, AdaBoostClassifier, GradientBoostingClassifier, ExtraTreesClassifier)\n",
    "from sklearn.svm import SVC\n",
    "import IPython\n",
    "from IPython.display import HTML, display, IFrame\n",
    "\n",
    "%config InlineBackend.figure_format = 'png' #set 'png' here when working on notebook\n",
    "%matplotlib inline"
   ]
  },
  {
   "cell_type": "markdown",
   "metadata": {},
   "source": [
    "# Load Data"
   ]
  },
  {
   "cell_type": "code",
   "execution_count": 2,
   "metadata": {},
   "outputs": [],
   "source": [
    "accidents = pd.read_csv(\"./Data/Scooter_Accidents.csv\")"
   ]
  },
  {
   "cell_type": "markdown",
   "metadata": {},
   "source": [
    "# Accident Data\n",
    "\n",
    "### Summary of Data\n",
    "- 165 total accident incidents\n",
    "    - 9/5/18 to 11/29/18\n",
    "- More males reported in accidents when compared to females\n",
    "- Four main types of accidents\n",
    "    1. Traffic Injury Pri 2\n",
    "    2. Fall Pri 4\n",
    "    3. Injury Pri 4\n",
    "    4. Fall Pri 3\n",
    "- Most accidents occurred during the afternoon and night (night and late night included)\n",
    "- Most accidents occuring during the evening/night/late-night are concentrated downtown near 6th"
   ]
  },
  {
   "cell_type": "markdown",
   "metadata": {},
   "source": [
    "### Formatting Data"
   ]
  },
  {
   "cell_type": "code",
   "execution_count": 3,
   "metadata": {},
   "outputs": [],
   "source": [
    "accidents['Time Phone Pickup'] = pd.to_datetime(accidents['Time Phone Pickup'], format='%m/%d/%y %H:%M')"
   ]
  },
  {
   "cell_type": "markdown",
   "metadata": {},
   "source": [
    "### Understanding Data"
   ]
  },
  {
   "cell_type": "markdown",
   "metadata": {},
   "source": [
    "#### Dates"
   ]
  },
  {
   "cell_type": "code",
   "execution_count": 4,
   "metadata": {},
   "outputs": [
    {
     "data": {
      "text/html": [
       "<div>\n",
       "<style scoped>\n",
       "    .dataframe tbody tr th:only-of-type {\n",
       "        vertical-align: middle;\n",
       "    }\n",
       "\n",
       "    .dataframe tbody tr th {\n",
       "        vertical-align: top;\n",
       "    }\n",
       "\n",
       "    .dataframe thead th {\n",
       "        text-align: right;\n",
       "    }\n",
       "</style>\n",
       "<table border=\"1\" class=\"dataframe\">\n",
       "  <thead>\n",
       "    <tr style=\"text-align: right;\">\n",
       "      <th></th>\n",
       "      <th>Contact Date</th>\n",
       "      <th>Day of Week</th>\n",
       "      <th>Longitude</th>\n",
       "      <th>Latitude</th>\n",
       "      <th>Time Phone Pickup</th>\n",
       "      <th>Incident Address</th>\n",
       "      <th>Incident Zip Code</th>\n",
       "      <th>Patient Gender</th>\n",
       "      <th>Problem Description</th>\n",
       "      <th>ePCR Destination Name</th>\n",
       "    </tr>\n",
       "  </thead>\n",
       "  <tbody>\n",
       "    <tr>\n",
       "      <th>0</th>\n",
       "      <td>9/5/18</td>\n",
       "      <td>Wednesday</td>\n",
       "      <td>-97.829084</td>\n",
       "      <td>30.228721</td>\n",
       "      <td>2018-09-05 03:05:00</td>\n",
       "      <td>5700-6224 S MOPAC EXPY SB</td>\n",
       "      <td>78749</td>\n",
       "      <td>Female</td>\n",
       "      <td>Traffic Injury Pri 4F</td>\n",
       "      <td>South Austin Hospital</td>\n",
       "    </tr>\n",
       "  </tbody>\n",
       "</table>\n",
       "</div>"
      ],
      "text/plain": [
       "  Contact Date Day of Week  Longitude   Latitude   Time Phone Pickup  \\\n",
       "0       9/5/18   Wednesday -97.829084  30.228721 2018-09-05 03:05:00   \n",
       "\n",
       "            Incident Address  Incident Zip Code Patient Gender  \\\n",
       "0  5700-6224 S MOPAC EXPY SB              78749         Female   \n",
       "\n",
       "     Problem Description  ePCR Destination Name  \n",
       "0  Traffic Injury Pri 4F  South Austin Hospital  "
      ]
     },
     "execution_count": 4,
     "metadata": {},
     "output_type": "execute_result"
    }
   ],
   "source": [
    "accidents.sort_values(by=['Time Phone Pickup'], inplace=True, ascending=False)\n",
    "accidents.head(1)\n",
    "accidents.tail(1)"
   ]
  },
  {
   "cell_type": "markdown",
   "metadata": {},
   "source": [
    "#### Accidents Split by Gender"
   ]
  },
  {
   "cell_type": "code",
   "execution_count": 16,
   "metadata": {},
   "outputs": [
    {
     "data": {
      "text/html": [
       "<iframe id=\"igraph\" scrolling=\"no\" style=\"border:none;\" seamless=\"seamless\" src=\"https://plot.ly/~aneeshsoni/31.embed\" height=\"525px\" width=\"100%\"></iframe>"
      ],
      "text/plain": [
       "<chart_studio.tools.PlotlyDisplay object>"
      ]
     },
     "execution_count": 16,
     "metadata": {},
     "output_type": "execute_result"
    }
   ],
   "source": [
    "accidents_male = accidents.loc[accidents['Patient Gender']=='Male']\n",
    "accidents_female = accidents.loc[accidents['Patient Gender']=='Female']\n",
    "\n",
    "labels = ['Males','Females']\n",
    "values = [97,68]\n",
    "colors = ['#37536d', '#1a76ff']\n",
    "\n",
    "trace = go.Pie(labels=labels, values=values, title='Males vs Female Accidents',\n",
    "               hoverinfo='label+percent', textinfo='value', \n",
    "               textfont=dict(size=20),\n",
    "               marker=dict(colors=colors))\n",
    "\n",
    "#py.iplot([trace], filename='styled_pie_chart')\n",
    "\n",
    "fig = {\n",
    "  \"data\": [\n",
    "    {\n",
    "      \"values\": [97,68],\n",
    "      \"labels\": [\n",
    "        \"Males\",\n",
    "        \"Females\",\n",
    "      ],\n",
    "      'marker': {'colors': ['rgb(55, 83, 109)', 'rgb(26, 118, 255)']},\n",
    "      \"hoverinfo\":\"label+percent+name\",\n",
    "      \"type\": \"pie\",\n",
    "    }],\n",
    "  \"layout\": {\n",
    "        \"title\":\"Males vs Females Accidents\"\n",
    "    }\n",
    "}\n",
    "\n",
    "py.iplot(fig, filename='Males vs Females Accidents')"
   ]
  },
  {
   "cell_type": "markdown",
   "metadata": {},
   "source": [
    "#### Accidents Split by Problem Description"
   ]
  },
  {
   "cell_type": "code",
   "execution_count": 7,
   "metadata": {},
   "outputs": [
    {
     "data": {
      "text/html": [
       "<iframe id=\"igraph\" scrolling=\"no\" style=\"border:none;\" seamless=\"seamless\" src=\"https://plot.ly/~aneeshsoni/17.embed\" height=\"525px\" width=\"100%\"></iframe>"
      ],
      "text/plain": [
       "<chart_studio.tools.PlotlyDisplay object>"
      ]
     },
     "execution_count": 7,
     "metadata": {},
     "output_type": "execute_result"
    }
   ],
   "source": [
    "accident_problems = pd.DataFrame(data = accidents['Problem Description'].value_counts())\n",
    "\n",
    "accident_problems.columns = [\n",
    "  'Count'\n",
    "]\n",
    "\n",
    "accident_problems['Accident_Type'] = accident_problems.index\n",
    "\n",
    "trace1 = go.Bar(\n",
    "    x = accident_problems['Accident_Type'],\n",
    "    y = accident_problems['Count'],\n",
    "    marker=dict(\n",
    "        color='rgb(55, 83, 109)'\n",
    "    )\n",
    ")\n",
    "\n",
    "data = [trace1]\n",
    "\n",
    "layout = go.Layout(\n",
    "    title='Accidents and their Occurrence',\n",
    "    xaxis=dict(\n",
    "        title='Type of Accident',\n",
    "        titlefont=dict(\n",
    "            size=14,\n",
    "            color='rgb(107, 107, 107)'\n",
    "        ),\n",
    "        tickfont=dict(\n",
    "            size=8\n",
    "        )\n",
    "    ),\n",
    "    yaxis=dict(\n",
    "        title='Number of Calls',\n",
    "        titlefont=dict(\n",
    "            size=14,\n",
    "            color='rgb(107, 107, 107)'\n",
    "        )\n",
    "    ),\n",
    ")\n",
    "\n",
    "plotly.offline.plot(data, filename='./Visualizations/accident_problems.html', auto_open = False)\n",
    "fig = go.Figure(data=data, layout=layout)\n",
    "py.iplot(fig, filename = 'Accidents and their Occurrence')"
   ]
  },
  {
   "cell_type": "markdown",
   "metadata": {},
   "source": [
    "#### Accidents Based on Time of Day"
   ]
  },
  {
   "cell_type": "code",
   "execution_count": 8,
   "metadata": {},
   "outputs": [],
   "source": [
    "accidents = accidents.assign(Session = pd.cut(accidents['Time Phone Pickup'].dt.hour,[-1,5,11,17,20,24],labels=['Late Night', 'Morning', 'Afternoon', 'Evening', 'Night']))\n",
    "\n",
    "accidents_male = accidents_male.assign(Session = pd.cut(accidents_male['Time Phone Pickup'].dt.hour,[-1,5,11,17,20,24],labels=['Late Night', 'Morning', 'Afternoon', 'Evening', 'Night']))\n",
    "accidents_female = accidents_female.assign(Session = pd.cut(accidents_female['Time Phone Pickup'].dt.hour,[-1,5,11,17,20,24],labels=['Late Night', 'Morning', 'Afternoon', 'Evening', 'Night']))"
   ]
  },
  {
   "cell_type": "code",
   "execution_count": 9,
   "metadata": {},
   "outputs": [
    {
     "data": {
      "text/html": [
       "<iframe id=\"igraph\" scrolling=\"no\" style=\"border:none;\" seamless=\"seamless\" src=\"https://plot.ly/~aneeshsoni/19.embed\" height=\"525px\" width=\"100%\"></iframe>"
      ],
      "text/plain": [
       "<chart_studio.tools.PlotlyDisplay object>"
      ]
     },
     "execution_count": 9,
     "metadata": {},
     "output_type": "execute_result"
    }
   ],
   "source": [
    "accident_sessions_male = pd.DataFrame(data = accidents_male['Session'].value_counts())\n",
    "accident_sessions_female = pd.DataFrame(data = accidents_female['Session'].value_counts())\n",
    "\n",
    "accident_sessions_male.columns = [\n",
    "  'Count',\n",
    "]\n",
    "\n",
    "accident_sessions_female.columns = [\n",
    "  'Count',\n",
    "]\n",
    "\n",
    "accident_sessions_male['Session'] = accident_sessions_male.index\n",
    "accident_sessions_female['Session'] = accident_sessions_female.index\n",
    "\n",
    "trace1 = go.Bar(\n",
    "    x = accident_sessions_male['Session'],\n",
    "    y = accident_sessions_male['Count'],\n",
    "    name='Males',\n",
    "    marker=dict(\n",
    "        color='rgb(55, 83, 109)'\n",
    "    )\n",
    ")\n",
    "\n",
    "trace2 = go.Bar(\n",
    "    x = accident_sessions_male['Session'],\n",
    "    y = accident_sessions_female['Count'],\n",
    "    name='Females',\n",
    "    marker=dict(\n",
    "        color='rgb(26, 118, 255)'\n",
    "    )\n",
    ")\n",
    "\n",
    "data = [trace1, trace2]\n",
    "\n",
    "layout = go.Layout(\n",
    "    title='Accidents During Time of Day by Gender',\n",
    "    xaxis=dict(\n",
    "        title='Time of Day',\n",
    "        titlefont=dict(\n",
    "            size=14,\n",
    "            color='rgb(107, 107, 107)'\n",
    "        )\n",
    "    ),\n",
    "    yaxis=dict(\n",
    "        title='Number of Accidents',\n",
    "        titlefont=dict(\n",
    "            size=14,\n",
    "            color='rgb(107, 107, 107)'\n",
    "        )\n",
    "    ),\n",
    "    barmode='group',\n",
    "    bargap=0.15,\n",
    "    bargroupgap=0.1\n",
    ")\n",
    "\n",
    "plotly.offline.plot(data, filename='./Visualizations/accident_sessions.html', auto_open = False)\n",
    "fig = go.Figure(data=data, layout=layout)\n",
    "py.iplot(fig, filename = 'Accidents During Time of Day by Gender')"
   ]
  },
  {
   "cell_type": "markdown",
   "metadata": {},
   "source": [
    "### All Accidents\n",
    "\n",
    "- Green = Morning\n",
    "- Red = Afternoon\n",
    "- Light Blue = Evening\n",
    "- Purple = Night\n",
    "- Dark Blue = Late Night"
   ]
  },
  {
   "cell_type": "code",
   "execution_count": 29,
   "metadata": {
    "scrolled": true
   },
   "outputs": [],
   "source": [
    "Austin_Map = folium.Map(location = [30.267153, -97.7430608], zoom_start = 12)\n",
    "\n",
    "for index, row in accidents.iterrows():\n",
    "    description = 'DATE: ' + row['Contact Date'] + '\\n' + 'GENDER: ' + row['Patient Gender'] + '\\n' + 'PROBLEM: ' + row['Problem Description']\n",
    "    if (row['Session'] == 'Morning'):\n",
    "        folium.Marker([row['Latitude'], row['Longitude']], popup=folium.Popup(description, max_width = 110), icon=folium.Icon(color='green')).add_to(Austin_Map)\n",
    "    elif (row['Session'] == 'Afternoon'):\n",
    "        folium.Marker([row['Latitude'], row['Longitude']], popup=folium.Popup(description, max_width = 110), icon=folium.Icon(color='red')).add_to(Austin_Map)\n",
    "    elif (row['Session'] == 'Night'):\n",
    "        folium.Marker([row['Latitude'], row['Longitude']], popup=folium.Popup(description, max_width = 110), icon=folium.Icon(color='purple')).add_to(Austin_Map)\n",
    "    elif (row['Session'] == 'Late Night'):\n",
    "        folium.Marker([row['Latitude'], row['Longitude']], popup=folium.Popup(description, max_width = 110), icon=folium.Icon(color='darkblue')).add_to(Austin_Map)\n",
    "    elif (row['Session'] == 'Evening'):\n",
    "        folium.Marker([row['Latitude'], row['Longitude']], popup=folium.Popup(description, max_width = 110), icon=folium.Icon(color='lightblue')).add_to(Austin_Map)\n",
    "\n",
    "\n",
    "Austin_Map.save(\"./Visualizations/Downtown_Austin.html\")"
   ]
  },
  {
   "cell_type": "code",
   "execution_count": 34,
   "metadata": {
    "scrolled": true
   },
   "outputs": [
    {
     "data": {
      "text/html": [
       "<iframe width=\"100%\" height=\"700\" src=\"./Visualizations/Downtown_Austin.html\"></iframe>\n"
      ],
      "text/plain": [
       "<IPython.core.display.HTML object>"
      ]
     },
     "metadata": {},
     "output_type": "display_data"
    }
   ],
   "source": [
    "%%HTML\n",
    "<iframe width=\"100%\" height=\"700\" src=\"./Visualizations/Downtown_Austin.html\"></iframe>"
   ]
  }
 ],
 "metadata": {
  "kernelspec": {
   "display_name": "Python 3",
   "language": "python",
   "name": "python3"
  },
  "language_info": {
   "codemirror_mode": {
    "name": "ipython",
    "version": 3
   },
   "file_extension": ".py",
   "mimetype": "text/x-python",
   "name": "python",
   "nbconvert_exporter": "python",
   "pygments_lexer": "ipython3",
   "version": "3.7.1"
  }
 },
 "nbformat": 4,
 "nbformat_minor": 2
}
